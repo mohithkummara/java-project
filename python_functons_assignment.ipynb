{
  "nbformat": 4,
  "nbformat_minor": 0,
  "metadata": {
    "colab": {
      "provenance": [],
      "toc_visible": true,
      "authorship_tag": "ABX9TyMfxYqhlWLS3Y7NvknGqNQ8",
      "include_colab_link": true
    },
    "kernelspec": {
      "name": "python3",
      "display_name": "Python 3"
    },
    "language_info": {
      "name": "python"
    }
  },
  "cells": [
    {
      "cell_type": "markdown",
      "metadata": {
        "id": "view-in-github",
        "colab_type": "text"
      },
      "source": [
        "<a href=\"https://colab.research.google.com/github/mohithkummara/java-project/blob/main/python_functons_assignment.ipynb\" target=\"_parent\"><img src=\"https://colab.research.google.com/assets/colab-badge.svg\" alt=\"Open In Colab\"/></a>"
      ]
    },
    {
      "cell_type": "code",
      "execution_count": null,
      "metadata": {
        "colab": {
          "base_uri": "https://localhost:8080/"
        },
        "id": "KTIAF55i-bGW",
        "outputId": "fc75eefc-7015-492f-99e7-5e75cc3e12a7"
      },
      "outputs": [
        {
          "output_type": "stream",
          "name": "stdout",
          "text": [
            "Hello,Good Morning karthik!"
          ]
        }
      ],
      "source": [
        "#1.\tWrite a function wish(name) that returns \"Hello, Good Morning <name>!\".\n",
        "def wish(name):\n",
        "  print(f\"Hello,Good Morning {name}\",end = \"!\")\n",
        "wish(\"karthik\")"
      ]
    },
    {
      "cell_type": "code",
      "source": [
        "#2.\tWrite a function cube(n) that returns the cube of a number (n³).\n",
        "def cube(n):\n",
        "  n = n**3\n",
        "  return n\n",
        "cube(3)"
      ],
      "metadata": {
        "colab": {
          "base_uri": "https://localhost:8080/"
        },
        "id": "h79RIkTT_K-q",
        "outputId": "aba8257e-df1f-41be-aa1a-3600b9b3c9fd"
      },
      "execution_count": null,
      "outputs": [
        {
          "output_type": "execute_result",
          "data": {
            "text/plain": [
              "27"
            ]
          },
          "metadata": {},
          "execution_count": 22
        }
      ]
    },
    {
      "cell_type": "code",
      "source": [
        "#3.\tWrite a function check_even(n) that returns True if the number is even, else False.\n",
        "def check_even(n):\n",
        "  if n%2 == 0:\n",
        "    print(True)\n",
        "  else:\n",
        "    print(False)\n",
        "check_even(12)"
      ],
      "metadata": {
        "colab": {
          "base_uri": "https://localhost:8080/"
        },
        "id": "EGASTkhtBOmr",
        "outputId": "395acc53-e478-422f-cbd6-4525bcce5201"
      },
      "execution_count": null,
      "outputs": [
        {
          "output_type": "stream",
          "name": "stdout",
          "text": [
            "True\n"
          ]
        }
      ]
    },
    {
      "cell_type": "code",
      "source": [
        "#4.\tWrite a function greatest_of_two(a, b) that returns the larger of two numbers.\n",
        "def greatest_of_two(a,b):\n",
        "  if a>b:\n",
        "    return a\n",
        "  else:\n",
        "    return b\n",
        "greatest_of_two(76,4)"
      ],
      "metadata": {
        "colab": {
          "base_uri": "https://localhost:8080/"
        },
        "id": "GYNGNHeiB5N1",
        "outputId": "730ab71c-4e81-4388-c333-05861f753872"
      },
      "execution_count": null,
      "outputs": [
        {
          "output_type": "execute_result",
          "data": {
            "text/plain": [
              "76"
            ]
          },
          "metadata": {},
          "execution_count": 28
        }
      ]
    },
    {
      "cell_type": "code",
      "source": [
        "#5.\tWrite a function count_letters(s) that returns the number of characters in a string.\n",
        "def count_letters(s):\n",
        "  count = 0\n",
        "  for i in s:\n",
        "    count += 1\n",
        "  return count\n",
        "count_letters(\"karthik\")"
      ],
      "metadata": {
        "colab": {
          "base_uri": "https://localhost:8080/"
        },
        "id": "IKDkdXpSCkuH",
        "outputId": "640327df-6bf8-4f4c-b37a-60718975d8db"
      },
      "execution_count": null,
      "outputs": [
        {
          "output_type": "execute_result",
          "data": {
            "text/plain": [
              "7"
            ]
          },
          "metadata": {},
          "execution_count": 30
        }
      ]
    },
    {
      "cell_type": "code",
      "source": [
        "#6.\tWrite a function power(value, exp=2) that returns the number raised to the power exp. (Default exponent = 2)\n",
        "def power(value,exp = 2):\n",
        "  return value**exp\n",
        "power(5)"
      ],
      "metadata": {
        "colab": {
          "base_uri": "https://localhost:8080/"
        },
        "outputId": "383e65c2-8291-414a-d9fc-3e0247896d93",
        "id": "tQocrQ6xMbfs"
      },
      "execution_count": null,
      "outputs": [
        {
          "output_type": "execute_result",
          "data": {
            "text/plain": [
              "25"
            ]
          },
          "metadata": {},
          "execution_count": 34
        }
      ]
    },
    {
      "cell_type": "code",
      "source": [
        "#7.\tWrite a function swap(a, b) that returns the two values swapped as a tuple.\n",
        "def swap(a,b):\n",
        "  a,b = b,a\n",
        "  return a,b\n",
        "swap(1,2)"
      ],
      "metadata": {
        "colab": {
          "base_uri": "https://localhost:8080/"
        },
        "id": "BTSPma6eESiQ",
        "outputId": "410322df-d028-407e-89eb-2942f99ebf4a"
      },
      "execution_count": 14,
      "outputs": [
        {
          "output_type": "execute_result",
          "data": {
            "text/plain": [
              "(2, 1)"
            ]
          },
          "metadata": {},
          "execution_count": 14
        }
      ]
    },
    {
      "cell_type": "code",
      "source": [
        "#8.\tWrite a function add_sub(a, b) that returns both sum and difference of two numbers.\n",
        "sum = 0\n",
        "sub = 0\n",
        "def add_sub(a,b):\n",
        "  sum = a+b\n",
        "  sub = a-b\n",
        "  return sum,sub\n",
        "print(add_sub(5,2))"
      ],
      "metadata": {
        "colab": {
          "base_uri": "https://localhost:8080/"
        },
        "id": "ojW2aW_xEnQW",
        "outputId": "d8928f42-c350-4b4f-ae4e-e5c541368b80"
      },
      "execution_count": null,
      "outputs": [
        {
          "output_type": "stream",
          "name": "stdout",
          "text": [
            "(7, 3)\n"
          ]
        }
      ]
    },
    {
      "cell_type": "code",
      "source": [
        "#9.\tWrite a function circle_stats(radius) that returns the area and circumference as a tuple.\n",
        "area = 0\n",
        "circumference = 0\n",
        "def circle_stats(radius):\n",
        "  area = 3.14*radius**2\n",
        "  circumference = 2*3.14*radius\n",
        "  return area,circumference\n",
        "circle_stats(5)"
      ],
      "metadata": {
        "colab": {
          "base_uri": "https://localhost:8080/"
        },
        "id": "lz2XfRkRXWb5",
        "outputId": "c34b78ef-d5cf-4963-ef51-529eb8cca2bd"
      },
      "execution_count": null,
      "outputs": [
        {
          "output_type": "execute_result",
          "data": {
            "text/plain": [
              "(78.5, 31.400000000000002)"
            ]
          },
          "metadata": {},
          "execution_count": 27
        }
      ]
    },
    {
      "cell_type": "code",
      "source": [
        "#10.\tWrite a function min_max_sum(nums) that returns the minimum, maximum, and sum of a list.\n",
        "def min_max_sum(nums):\n",
        "  min = max = nums[0]\n",
        "  sum = 0\n",
        "  for i in nums:\n",
        "    sum = sum+i\n",
        "    if i<min:\n",
        "      min = i\n",
        "    elif i>max:\n",
        "      max = i\n",
        "  return min,max,sum\n",
        "print(min_max_sum([8,2,3,4,5,6]))"
      ],
      "metadata": {
        "colab": {
          "base_uri": "https://localhost:8080/"
        },
        "id": "v5Ni2_fAXx96",
        "outputId": "810ab90f-c9c8-4958-9c00-460f135c39de"
      },
      "execution_count": null,
      "outputs": [
        {
          "output_type": "stream",
          "name": "stdout",
          "text": [
            "(2, 8, 28)\n"
          ]
        }
      ]
    },
    {
      "cell_type": "code",
      "source": [
        "#11.\tWrite a function concat(*parts) that joins multiple strings together with spaces.\n",
        "concat(\"karthik\",\"reddy\")\n",
        "def concat(*parts):\n",
        "  for i in parts:\n",
        "    print(i,end = \" \")\n",
        "  return parts"
      ],
      "metadata": {
        "colab": {
          "base_uri": "https://localhost:8080/"
        },
        "id": "-F196VwTbmzN",
        "outputId": "8d9048f4-3796-49ac-c517-c1a18a69c388"
      },
      "execution_count": null,
      "outputs": [
        {
          "output_type": "stream",
          "name": "stdout",
          "text": [
            "karthik reddy "
          ]
        }
      ]
    },
    {
      "cell_type": "code",
      "source": [
        "#12.\tWrite a function format_name(first, last=\"\") that returns \"Last, First\" if last name is provided, else \"First\".\n",
        "def format_name(first,last=\"\"):\n",
        "  if last==\"\":\n",
        "    print(first)\n",
        "  else:\n",
        "    print(last,first)\n",
        "format_name(\"karthik\",\"vudumula\")"
      ],
      "metadata": {
        "id": "xeVz46kSfiyh",
        "colab": {
          "base_uri": "https://localhost:8080/"
        },
        "outputId": "39dfbeb9-7e7c-4c2d-9c25-28f9eaa22bb8"
      },
      "execution_count": null,
      "outputs": [
        {
          "output_type": "stream",
          "name": "stdout",
          "text": [
            "vudumula karthik\n"
          ]
        }
      ]
    },
    {
      "cell_type": "code",
      "source": [
        "#13.\tWrite a function greet_user(first, last) that returns a message like \"Welcome, First Last!\".\n",
        "def greet_user(first,last):\n",
        "  print(f\"welcome, {first} {last}\",end = \"!\")\n",
        "greet_user(\"karthik\",\"vudumula\")"
      ],
      "metadata": {
        "colab": {
          "base_uri": "https://localhost:8080/"
        },
        "id": "L8Xvavd7R_hE",
        "outputId": "d5ba7af6-0174-4926-cce3-e30d06df6ab6"
      },
      "execution_count": null,
      "outputs": [
        {
          "output_type": "stream",
          "name": "stdout",
          "text": [
            "welcome, karthik vudumula!"
          ]
        }
      ]
    },
    {
      "cell_type": "code",
      "source": [
        "#14.\tWrite a lambda function to add two numbers.\n",
        "add = lambda a, b: a + b\n",
        "print(add(5, 3))\n"
      ],
      "metadata": {
        "colab": {
          "base_uri": "https://localhost:8080/"
        },
        "id": "uHxWO1JYTCXR",
        "outputId": "c67f2365-a86c-48e4-c973-b62c8a9298a0"
      },
      "execution_count": null,
      "outputs": [
        {
          "output_type": "stream",
          "name": "stdout",
          "text": [
            "8\n"
          ]
        }
      ]
    },
    {
      "cell_type": "code",
      "source": [
        "#15.\tWrite a lambda function mult = lambda *args: that returns the product of all arguments.\n",
        "mul = lambda *args:1 if not args else args[0] * mul(*args[1:])\n",
        "print(mul(3,2))"
      ],
      "metadata": {
        "colab": {
          "base_uri": "https://localhost:8080/"
        },
        "id": "UTaOblShU7Zg",
        "outputId": "aa2c6586-fd68-4c3f-f33b-61409a1248a8"
      },
      "execution_count": null,
      "outputs": [
        {
          "output_type": "stream",
          "name": "stdout",
          "text": [
            "6\n"
          ]
        }
      ]
    },
    {
      "cell_type": "code",
      "source": [
        "#16.Write a one-line lambda expression to flatten a list of pairs like [(a,b), (c,d)] into [a, b, c, d].\n",
        "flatten=lambda pairs: [item for pair in pairs for item in pairs]"
      ],
      "metadata": {
        "colab": {
          "base_uri": "https://localhost:8080/"
        },
        "id": "aeVxA5UNO9ul",
        "outputId": "6db985c2-9b5a-4b62-a3a6-769482a61413"
      },
      "execution_count": 16,
      "outputs": [
        {
          "output_type": "stream",
          "name": "stdout",
          "text": [
            "[('a', 'b'), ('c', 'd'), ('a', 'b'), ('c', 'd')]\n"
          ]
        }
      ]
    },
    {
      "cell_type": "code",
      "source": [
        "#\n",
        "flatten_list = lambda list_of_pairs:[item for pair in list_of_pairs for item in pair]\n",
        "data = [(1,2),(4,5),(3,6),(7,8)]\n",
        "print(flatten_list(data))"
      ],
      "metadata": {
        "colab": {
          "base_uri": "https://localhost:8080/"
        },
        "id": "zsuQbjUIZtcJ",
        "outputId": "bbda92ad-09f7-45f1-b407-d06a9554c08e"
      },
      "execution_count": null,
      "outputs": [
        {
          "output_type": "stream",
          "name": "stdout",
          "text": [
            "[1, 2, 4, 5, 3, 6, 7, 8]\n"
          ]
        }
      ]
    },
    {
      "cell_type": "code",
      "source": [
        "#\n",
        "list_1 = [1,2,3,4,5]\n",
        "square = [x**2 for x in list_1]\n",
        "print(square)"
      ],
      "metadata": {
        "colab": {
          "base_uri": "https://localhost:8080/"
        },
        "id": "AJNCPL-01Nic",
        "outputId": "2711500e-6abc-4397-fbd1-d3fbcdfbe938"
      },
      "execution_count": null,
      "outputs": [
        {
          "output_type": "stream",
          "name": "stdout",
          "text": [
            "[1, 4, 9, 16, 25]\n"
          ]
        }
      ]
    },
    {
      "cell_type": "code",
      "source": [
        "#\n",
        "letters = ['a','b','c']\n",
        "upper_letters = [letters.upper() for letters in letters]\n",
        "print(upper_letters)"
      ],
      "metadata": {
        "colab": {
          "base_uri": "https://localhost:8080/"
        },
        "id": "XWfxT2WK7Xjr",
        "outputId": "6ddd3823-f247-49a9-c101-c14f7f49cafb"
      },
      "execution_count": null,
      "outputs": [
        {
          "output_type": "stream",
          "name": "stdout",
          "text": [
            "['A', 'B', 'C']\n"
          ]
        }
      ]
    },
    {
      "cell_type": "code",
      "source": [
        "#\n",
        "even_numbers = [i for i in range (1,20) if i%2 == 0]\n",
        "print(even_numbers)"
      ],
      "metadata": {
        "colab": {
          "base_uri": "https://localhost:8080/"
        },
        "id": "kEA6X0wZ8XuK",
        "outputId": "59b781be-801e-40d8-e349-b10c2934d924"
      },
      "execution_count": null,
      "outputs": [
        {
          "output_type": "stream",
          "name": "stdout",
          "text": [
            "[2, 4, 6, 8, 10, 12, 14, 16, 18]\n"
          ]
        }
      ]
    },
    {
      "cell_type": "code",
      "source": [
        "#\n",
        "words = ['apple','bee','cat']\n",
        "count_of_word = [(i, len(i)) for i in words]\n",
        "print(count_of_word)"
      ],
      "metadata": {
        "colab": {
          "base_uri": "https://localhost:8080/"
        },
        "id": "92amziKM9hSW",
        "outputId": "a1d6ecb6-b21d-42a1-ab8e-ca69734ceff3"
      },
      "execution_count": null,
      "outputs": [
        {
          "output_type": "stream",
          "name": "stdout",
          "text": [
            "[('apple', 5), ('bee', 3), ('cat', 3)]\n"
          ]
        }
      ]
    },
    {
      "cell_type": "code",
      "source": [
        "#\n",
        "nested_list = [[1,2],[3,4],[4,5]]\n",
        "flattened_list = [num for sublist in nested_list for num in sublist]\n",
        "print(flattened_list)"
      ],
      "metadata": {
        "colab": {
          "base_uri": "https://localhost:8080/"
        },
        "id": "Yg8pYG7qCYfm",
        "outputId": "f78b83e8-78dd-4120-8f90-5b5c4458cf7b"
      },
      "execution_count": null,
      "outputs": [
        {
          "output_type": "stream",
          "name": "stdout",
          "text": [
            "[1, 2, 3, 4, 4, 5]\n"
          ]
        }
      ]
    },
    {
      "cell_type": "code",
      "source": [
        "#\n",
        "nums = [0,1,2,3]\n",
        "even_odd = ['even' if  num % 2 == 0 else 'odd' for num in nums]\n",
        "print(even_odd)"
      ],
      "metadata": {
        "colab": {
          "base_uri": "https://localhost:8080/"
        },
        "id": "AYnVzZSkDyRT",
        "outputId": "1ed9491c-8c25-44e4-a8b1-bf0c571c9658"
      },
      "execution_count": null,
      "outputs": [
        {
          "output_type": "stream",
          "name": "stdout",
          "text": [
            "['even', 'odd', 'even', 'odd']\n"
          ]
        }
      ]
    },
    {
      "cell_type": "code",
      "source": [
        "#\n",
        "divisible_by_2_and_3 = [i for i in range(1,50) if i%2==0 and i%3==0]\n",
        "print(divisible_by_2_and_3)"
      ],
      "metadata": {
        "colab": {
          "base_uri": "https://localhost:8080/"
        },
        "id": "CyxD0xXbZCw0",
        "outputId": "1822bac0-8a71-462f-dde1-8a590a979184"
      },
      "execution_count": null,
      "outputs": [
        {
          "output_type": "stream",
          "name": "stdout",
          "text": [
            "[6, 12, 18, 24, 30, 36, 42, 48]\n"
          ]
        }
      ]
    },
    {
      "cell_type": "code",
      "source": [
        "#17.Write a recursive function factorial(n) that returns the factorial of a number.\n",
        "def recursive_factorial(n):\n",
        "  if n == 0 or n == 1:\n",
        "    return n\n",
        "  else:\n",
        "    return n*recursive_factorial(n-1)\n",
        "recursive_factorial(3)\n"
      ],
      "metadata": {
        "colab": {
          "base_uri": "https://localhost:8080/"
        },
        "id": "GmfU1M3elA_Y",
        "outputId": "76b3603c-51f3-4616-ca0f-71ab352b3e6d"
      },
      "execution_count": null,
      "outputs": [
        {
          "output_type": "execute_result",
          "data": {
            "text/plain": [
              "6"
            ]
          },
          "metadata": {},
          "execution_count": 25
        }
      ]
    },
    {
      "cell_type": "code",
      "source": [
        "#18.Write a function apply_twice(func, x) that applies a function twice → func(func(x)).\n",
        "def apply_twice(func, x):\n",
        "    return func(func(x))\n",
        "def square(n):\n",
        "    return n * n\n",
        "apply_twice(square, 2)"
      ],
      "metadata": {
        "id": "8SiSts2No4Zh"
      },
      "execution_count": null,
      "outputs": []
    },
    {
      "cell_type": "code",
      "source": [
        "#19.Write a function inner_demo() that defines and calls an inner function inside it.\n",
        "def inner_demo():\n",
        "  def inner():\n",
        "    print(\"inner function\")\n",
        "  inner()\n",
        "inner_demo()\n"
      ],
      "metadata": {
        "colab": {
          "base_uri": "https://localhost:8080/"
        },
        "id": "v8o-7H4bs2U4",
        "outputId": "123f8521-5803-4854-c947-a283c5e2d80d"
      },
      "execution_count": null,
      "outputs": [
        {
          "output_type": "stream",
          "name": "stdout",
          "text": [
            "inner function\n"
          ]
        }
      ]
    },
    {
      "cell_type": "code",
      "source": [
        "#20.Write a function call_function(func, value) that takes another function as a parameter and applies it.\n",
        "def call_function(func,value):\n",
        "  def add(n):\n",
        "    return n+n\n",
        "  return func(func(value))\n",
        "call_function(add,2)"
      ],
      "metadata": {
        "colab": {
          "base_uri": "https://localhost:8080/"
        },
        "id": "ifIADX0juAT6",
        "outputId": "1751d488-b62e-4814-b40a-bbb38a0e2b32"
      },
      "execution_count": null,
      "outputs": [
        {
          "output_type": "execute_result",
          "data": {
            "text/plain": [
              "8"
            ]
          },
          "metadata": {},
          "execution_count": 47
        }
      ]
    },
    {
      "cell_type": "code",
      "source": [
        "#21.Write a function square_list(nums) that defines a helper function square(x) inside it and returns a list of squares.\n",
        "def square_list(nums):\n",
        "    def square(x):\n",
        "        return x * x\n",
        "    return [square(num) for num in nums]\n",
        "square_list([1,2,3])"
      ],
      "metadata": {
        "colab": {
          "base_uri": "https://localhost:8080/"
        },
        "id": "BcFuFMzRw5yZ",
        "outputId": "c0d2f737-4fe2-4fbb-92b6-6d4d66227ab4"
      },
      "execution_count": null,
      "outputs": [
        {
          "output_type": "execute_result",
          "data": {
            "text/plain": [
              "[1, 4, 9]"
            ]
          },
          "metadata": {},
          "execution_count": 55
        }
      ]
    },
    {
      "cell_type": "code",
      "source": [
        "#22.Write a function make_multiplier(m) that returns a new function which multiplies input values by m.\n",
        "def make_multiplier_of(n):\n",
        "    def multiplier(x):\n",
        "        c = x * n\n",
        "        return c\n",
        "    return multiplier\n",
        "multiply_by_3 = make_multiplier_of(3)\n",
        "multiply_by_3(5)"
      ],
      "metadata": {
        "colab": {
          "base_uri": "https://localhost:8080/"
        },
        "id": "jSnY-mcr4yJc",
        "outputId": "fef28ce3-c89f-4c63-c376-2327712444b5"
      },
      "execution_count": null,
      "outputs": [
        {
          "output_type": "execute_result",
          "data": {
            "text/plain": [
              "15"
            ]
          },
          "metadata": {},
          "execution_count": 2
        }
      ]
    },
    {
      "cell_type": "code",
      "source": [
        "#23.Write a function filter_primes(nums) that filters prime numbers using a helper is_prime() function.\n",
        "def filter_primes(nums):\n",
        "    def is_prime(n):\n",
        "        if n < 2:\n",
        "            return False\n",
        "        for i in range(2, int(n ** 0.5) + 1):\n",
        "            if n % i == 0:\n",
        "                return False\n",
        "        return True\n",
        "    return [n for n in nums if is_prime(n)]\n",
        "filter_primes([2,3,4,5,6,7,8,9,10])\n"
      ],
      "metadata": {
        "colab": {
          "base_uri": "https://localhost:8080/"
        },
        "id": "voij5jIO2rci",
        "outputId": "5cff6c77-a16e-4580-b25a-46bde6efae4a"
      },
      "execution_count": null,
      "outputs": [
        {
          "output_type": "execute_result",
          "data": {
            "text/plain": [
              "[2, 3, 5, 7]"
            ]
          },
          "metadata": {},
          "execution_count": 80
        }
      ]
    },
    {
      "cell_type": "code",
      "source": [
        "#24.Write a function convert_to_fahrenheit(celsius_list) using map and a lambda.Formula: F = C * 9/5 + 32\n",
        "def convert_to_fahrenheit(celsius_list):\n",
        "    formula = list(map(lambda c:c*9/5 +32,celsius_list))\n",
        "    return formula\n",
        "print(convert_to_fahrenheit([10,20,30]))"
      ],
      "metadata": {
        "colab": {
          "base_uri": "https://localhost:8080/"
        },
        "id": "Mm0xTbeXxrBp",
        "outputId": "5d875d6f-9c44-4652-c869-e80408cd704e"
      },
      "execution_count": 7,
      "outputs": [
        {
          "output_type": "stream",
          "name": "stdout",
          "text": [
            "[50.0, 68.0, 86.0]\n"
          ]
        }
      ]
    },
    {
      "cell_type": "code",
      "source": [
        "#25.Write a function apply_if(func, predicate, iterable) that applies a function only to items that pass a condition.\n",
        "def apply_if(func, predicate, iterable):\n",
        "    return [func(x) if predicate(x) else x for x in iterable]\n",
        "def is_even(n):\n",
        "    return n % 2 == 0\n",
        "def square(n):\n",
        "    return n * n\n",
        "nums = [1, 2, 3, 4, 5]\n",
        "result = apply_if(square, is_even, nums)\n",
        "print(result)"
      ],
      "metadata": {
        "colab": {
          "base_uri": "https://localhost:8080/"
        },
        "id": "VU92bR93cieI",
        "outputId": "2952f6c2-b3f6-401a-9c6d-5955d341d2b4"
      },
      "execution_count": 5,
      "outputs": [
        {
          "output_type": "stream",
          "name": "stdout",
          "text": [
            "[1, 4, 3, 16, 5]\n"
          ]
        }
      ]
    },
    {
      "cell_type": "code",
      "source": [
        "#26.Write a function curry(func) that converts a two-argument function into a curried version → can be called as f(a)(b).\n",
        "def curry(func):\n",
        "    def curried_function(a):\n",
        "        def inner_function(b):\n",
        "            return func(a, b)\n",
        "        return inner_function\n",
        "    return curried_function\n",
        "def add(a, b):\n",
        "    return a + b\n",
        "\n",
        "curried_add = curry(add)\n",
        "\n",
        "# Using the curried version\n",
        "result = curried_add(5)(3)\n",
        "print(result)\n"
      ],
      "metadata": {
        "colab": {
          "base_uri": "https://localhost:8080/"
        },
        "id": "ivEb_Az-pSTw",
        "outputId": "c632d6b1-5a49-4379-d308-b1cbb5ed9ba4"
      },
      "execution_count": 8,
      "outputs": [
        {
          "output_type": "stream",
          "name": "stdout",
          "text": [
            "8\n"
          ]
        }
      ]
    },
    {
      "cell_type": "code",
      "source": [
        "#27.Write a function variadic_sum(*args, **kwargs) that sums all positional arguments and multiplies by a scale factor if provided.\n",
        "def variadic_sum(*args, **kwargs):\n",
        "    total = sum(args)\n",
        "    scale = kwargs.get('scale', 1)\n",
        "    return total * scale\n",
        "print(variadic_sum(1, 2, 3))\n",
        "print(variadic_sum(1, 2, 3, scale=2))\n",
        "print(variadic_sum(5, 5, 5, scale=0.5))\n",
        "print(variadic_sum())\n"
      ],
      "metadata": {
        "colab": {
          "base_uri": "https://localhost:8080/"
        },
        "id": "ObM95XouPK0a",
        "outputId": "4302da9f-6b1b-47cc-f6dc-224e67b7525b"
      },
      "execution_count": 2,
      "outputs": [
        {
          "output_type": "stream",
          "name": "stdout",
          "text": [
            "6\n",
            "12\n",
            "7.5\n",
            "0\n"
          ]
        }
      ]
    },
    {
      "cell_type": "code",
      "source": [
        "#28.Write a function sort_by_length(strings) that sorts a list of strings by their length using a lambda as key.\n",
        "def sort_by_length(strings):\n",
        "    return sorted(strings, key=lambda s: len(s))\n",
        "words = [\"apple\", \"kiwi\", \"banana\", \"fig\", \"cherry\"]\n",
        "result = sort_by_length(words)\n",
        "print(result)"
      ],
      "metadata": {
        "colab": {
          "base_uri": "https://localhost:8080/"
        },
        "id": "T9sqS19cQnaQ",
        "outputId": "05e6512e-a678-443a-a7ba-98b763260237"
      },
      "execution_count": 3,
      "outputs": [
        {
          "output_type": "stream",
          "name": "stdout",
          "text": [
            "['fig', 'kiwi', 'apple', 'banana', 'cherry']\n"
          ]
        }
      ]
    },
    {
      "cell_type": "code",
      "source": [
        "students = [{'name':'A','score':80}, {'name':'B','score':60}]\n",
        "high_scorers = [student['name'] for student in students if student ['score']>=75 ]\n",
        "print(high_scorers)"
      ],
      "metadata": {
        "colab": {
          "base_uri": "https://localhost:8080/"
        },
        "id": "TSyMvJl2Rt9i",
        "outputId": "ab034e3e-6054-4b90-c448-249d0a584c01"
      },
      "execution_count": 7,
      "outputs": [
        {
          "output_type": "stream",
          "name": "stdout",
          "text": [
            "['A']\n"
          ]
        }
      ]
    },
    {
      "cell_type": "code",
      "source": [
        "squares = [{'n': n, 'square': n * n} for n in range(1, 11)]\n",
        "print(squares)"
      ],
      "metadata": {
        "colab": {
          "base_uri": "https://localhost:8080/"
        },
        "id": "t0f46hw7Ty99",
        "outputId": "df1015e5-203a-4a82-8fae-1a0c329aa99b"
      },
      "execution_count": 10,
      "outputs": [
        {
          "output_type": "stream",
          "name": "stdout",
          "text": [
            "[{'n': 1, 'square': 1}, {'n': 2, 'square': 4}, {'n': 3, 'square': 9}, {'n': 4, 'square': 16}, {'n': 5, 'square': 25}, {'n': 6, 'square': 36}, {'n': 7, 'square': 49}, {'n': 8, 'square': 64}, {'n': 9, 'square': 81}, {'n': 10, 'square': 100}]\n"
          ]
        }
      ]
    },
    {
      "cell_type": "code",
      "source": [
        "list1 = [1, 0, 3, '', 5]\n",
        "list2 = [2, 4, None, 8, 10]\n",
        "def merge_truthy(list1, list2):\n",
        "    return [(a, b) for a, b in zip(list1, list2) if a and b]\n",
        "print(merge_truthy(list1,list2))"
      ],
      "metadata": {
        "colab": {
          "base_uri": "https://localhost:8080/"
        },
        "id": "186BgqqxUHV_",
        "outputId": "43238192-2dae-4161-bb42-84cccb552a81"
      },
      "execution_count": 12,
      "outputs": [
        {
          "output_type": "stream",
          "name": "stdout",
          "text": [
            "[(1, 2), (5, 10)]\n"
          ]
        }
      ]
    },
    {
      "cell_type": "code",
      "source": [
        "matrix = [\n",
        "    [1,2,3],\n",
        "    [4,5,6],\n",
        "    [7,8,9]\n",
        "    ]\n",
        "transpose = [[row[i] for row in matrix] for i in range(len(matrix[0]))]\n",
        "print(transpose)"
      ],
      "metadata": {
        "colab": {
          "base_uri": "https://localhost:8080/"
        },
        "id": "SvR0BjK5W8St",
        "outputId": "212b757f-2392-4c7b-8b8c-845712749a4e"
      },
      "execution_count": 14,
      "outputs": [
        {
          "output_type": "stream",
          "name": "stdout",
          "text": [
            "[[1, 4, 7], [2, 5, 8], [3, 6, 9]]\n"
          ]
        }
      ]
    },
    {
      "cell_type": "code",
      "source": [
        "nested_list = [[[1,2],[3]],[[4]]]\n",
        "flattened = [x for sublist in nested_list for sublist1 in sublist for x in sublist1]\n",
        "print(flattened)"
      ],
      "metadata": {
        "colab": {
          "base_uri": "https://localhost:8080/"
        },
        "id": "irQtSHOqYlmk",
        "outputId": "8319987e-3883-4b60-a2ba-bcf3a7c37ceb"
      },
      "execution_count": 19,
      "outputs": [
        {
          "output_type": "stream",
          "name": "stdout",
          "text": [
            "[1, 2, 3, 4]\n"
          ]
        }
      ]
    },
    {
      "cell_type": "code",
      "source": [
        "lst = [1,2,2,3,1,4,3,5]\n",
        "seen = set()\n",
        "unique_num = []\n",
        "for x in lst:\n",
        "    if x not in seen:\n",
        "        unique_num.append(x)\n",
        "        seen.add(x)\n",
        "print(unique_num)"
      ],
      "metadata": {
        "colab": {
          "base_uri": "https://localhost:8080/"
        },
        "id": "q9zdVVklJbln",
        "outputId": "0c06503c-acd3-4f03-afa5-91d37d47b0c7"
      },
      "execution_count": 6,
      "outputs": [
        {
          "output_type": "stream",
          "name": "stdout",
          "text": [
            "[1, 2, 3, 4, 5]\n"
          ]
        }
      ]
    },
    {
      "cell_type": "code",
      "source": [
        "#45.Find all indices (positions) where a given number appears in a list.\n",
        "lst = [1, 2, 3, 2, 4]\n",
        "number = int(input(\"Enter the number: \"))\n",
        "indices = [i for i, x in enumerate(lst) if x == number]\n",
        "print(indices)"
      ],
      "metadata": {
        "colab": {
          "base_uri": "https://localhost:8080/"
        },
        "id": "vCKXEmJxKh5c",
        "outputId": "95dedb6d-88ce-4e93-8e4e-294ac8733baa"
      },
      "execution_count": 8,
      "outputs": [
        {
          "output_type": "stream",
          "name": "stdout",
          "text": [
            "Enter the number: 1\n",
            "[0]\n"
          ]
        }
      ]
    },
    {
      "cell_type": "code",
      "source": [
        "#46.Generate all palindromic numbers (as strings) between 1 and 999.\n",
        "palindromes=[str(n) for n in range(1, 1000) if str(n) == str(n)[::-1]]\n",
        "print(palindromes)"
      ],
      "metadata": {
        "colab": {
          "base_uri": "https://localhost:8080/"
        },
        "id": "skZrwwt2KzPO",
        "outputId": "3470ce2f-2445-41fa-f247-769d006cd762"
      },
      "execution_count": 9,
      "outputs": [
        {
          "output_type": "stream",
          "name": "stdout",
          "text": [
            "['1', '2', '3', '4', '5', '6', '7', '8', '9', '11', '22', '33', '44', '55', '66', '77', '88', '99', '101', '111', '121', '131', '141', '151', '161', '171', '181', '191', '202', '212', '222', '232', '242', '252', '262', '272', '282', '292', '303', '313', '323', '333', '343', '353', '363', '373', '383', '393', '404', '414', '424', '434', '444', '454', '464', '474', '484', '494', '505', '515', '525', '535', '545', '555', '565', '575', '585', '595', '606', '616', '626', '636', '646', '656', '666', '676', '686', '696', '707', '717', '727', '737', '747', '757', '767', '777', '787', '797', '808', '818', '828', '838', '848', '858', '868', '878', '888', '898', '909', '919', '929', '939', '949', '959', '969', '979', '989', '999']\n"
          ]
        }
      ]
    },
    {
      "cell_type": "code",
      "source": [
        "#47.Convert a dictionary like {'a':[1,2], 'b':[3]} into a list of (key, value) pairs.\n",
        "d={'a':1,'b':3}\n",
        "pairs=[(k,v) for k,v in d.items()]\n",
        "print(pairs)"
      ],
      "metadata": {
        "colab": {
          "base_uri": "https://localhost:8080/"
        },
        "id": "nSYRfQY8K3Fn",
        "outputId": "a5f56f50-892a-4739-8adc-58ceebdd675f"
      },
      "execution_count": 10,
      "outputs": [
        {
          "output_type": "stream",
          "name": "stdout",
          "text": [
            "[('a', 1), ('b', 3)]\n"
          ]
        }
      ]
    },
    {
      "cell_type": "code",
      "source": [
        "#48.Create a list of prime pairs (p, q) where both are primes under 100 and p + q is also prime.\n",
        "# Function to check if a number is prime\n",
        "def is_prime(n):\n",
        "  if n<2:\n",
        "    return False\n",
        "  for i in range(2,int(n**0.5)+1):\n",
        "    if n%i==0:\n",
        "      return False\n",
        "  return True\n",
        "\n",
        "primes = []\n",
        "for num in range(2,100):\n",
        "  if is_prime(num):\n",
        "    primes.append(num)\n",
        "\n",
        "prime_pairs = []\n",
        "for p in primes:\n",
        "  for q in primes:\n",
        "    if p<=q and is_prime(p+q):\n",
        "      prime_pairs.append((p,q))\n",
        "\n",
        "print(prime_pairs)"
      ],
      "metadata": {
        "colab": {
          "base_uri": "https://localhost:8080/"
        },
        "id": "5v0FzZvEK6st",
        "outputId": "aa936cf1-35e2-4630-c99d-fc43cbae3018"
      },
      "execution_count": 11,
      "outputs": [
        {
          "output_type": "stream",
          "name": "stdout",
          "text": [
            "[(2, 3), (2, 5), (2, 11), (2, 17), (2, 29), (2, 41), (2, 59), (2, 71)]\n"
          ]
        }
      ]
    },
    {
      "cell_type": "code",
      "source": [
        "#49.Create a lower-triangular matrix (n×n) with 1s below and on the diagonal, 0s above.\n",
        "n = 10\n",
        "lower_triangular=[[1 if j<=i else 0 for j in range(n)] for i in range(n)]\n",
        "for row in lower_triangular:\n",
        "  print(row)"
      ],
      "metadata": {
        "colab": {
          "base_uri": "https://localhost:8080/"
        },
        "id": "Sw9HZAayK-eV",
        "outputId": "b607b245-64f6-4576-9c88-96ac70faa40c"
      },
      "execution_count": 12,
      "outputs": [
        {
          "output_type": "stream",
          "name": "stdout",
          "text": [
            "[1, 0, 0, 0, 0, 0, 0, 0, 0, 0]\n",
            "[1, 1, 0, 0, 0, 0, 0, 0, 0, 0]\n",
            "[1, 1, 1, 0, 0, 0, 0, 0, 0, 0]\n",
            "[1, 1, 1, 1, 0, 0, 0, 0, 0, 0]\n",
            "[1, 1, 1, 1, 1, 0, 0, 0, 0, 0]\n",
            "[1, 1, 1, 1, 1, 1, 0, 0, 0, 0]\n",
            "[1, 1, 1, 1, 1, 1, 1, 0, 0, 0]\n",
            "[1, 1, 1, 1, 1, 1, 1, 1, 0, 0]\n",
            "[1, 1, 1, 1, 1, 1, 1, 1, 1, 0]\n",
            "[1, 1, 1, 1, 1, 1, 1, 1, 1, 1]\n"
          ]
        }
      ]
    },
    {
      "cell_type": "code",
      "source": [
        "#50.Generate all possible sequences of length 4 from 'abcd' with no repeated letters.\n",
        "letters='abcd'\n",
        "sequences=[]\n",
        "for a in letters:\n",
        "  for b in letters:\n",
        "    if b != a:\n",
        "      for c in letters:\n",
        "        if c != a and c != b:\n",
        "          for d in letters:\n",
        "            if d != a and d != b and d != c:\n",
        "              sequences.append(a + b + c + d)\n",
        "print(sequences)"
      ],
      "metadata": {
        "colab": {
          "base_uri": "https://localhost:8080/"
        },
        "id": "lH3W4zlPLEWB",
        "outputId": "ed377259-d95d-4a19-e18f-6255fd65160c"
      },
      "execution_count": 13,
      "outputs": [
        {
          "output_type": "stream",
          "name": "stdout",
          "text": [
            "['abcd', 'abdc', 'acbd', 'acdb', 'adbc', 'adcb', 'bacd', 'badc', 'bcad', 'bcda', 'bdac', 'bdca', 'cabd', 'cadb', 'cbad', 'cbda', 'cdab', 'cdba', 'dabc', 'dacb', 'dbac', 'dbca', 'dcab', 'dcba']\n"
          ]
        }
      ]
    }
  ]
}